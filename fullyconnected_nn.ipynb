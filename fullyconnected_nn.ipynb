{
 "cells": [
  {
   "cell_type": "markdown",
   "metadata": {},
   "source": [
    "# Bulilding a fully connected neural network"
   ]
  },
  {
   "cell_type": "markdown",
   "metadata": {},
   "source": [
    "## Imports"
   ]
  },
  {
   "cell_type": "code",
   "execution_count": 3,
   "metadata": {},
   "outputs": [],
   "source": [
    "\n",
    "import torch\n",
    "import torch.nn as nn # All neural network modules, nn.Linear, nn.Conv2d, BatchNorm, Loss functions\n",
    "import torch.optim as optim # For all Optimization algorithms, SGD, Adam, etc.\n",
    "import torch.nn.functional as F # All functions that don't have any parameters\n",
    "from torch.utils.data import DataLoader # Gives easier dataset managment and creates mini batches\n",
    "import torchvision.datasets as datasets # Has standard datasets we can import in a nice and easy way\n",
    "import torchvision.transforms as transforms # Transformations we can perform on our dataset"
   ]
  },
  {
   "cell_type": "markdown",
   "metadata": {},
   "source": [
    "## Dataset"
   ]
  },
  {
   "cell_type": "code",
   "execution_count": 4,
   "metadata": {},
   "outputs": [],
   "source": [
    "batch_size = 64 # no of samples nn sees at a time\n",
    "\n",
    "train_dataset = datasets.MNIST(\n",
    "    root = 'mnist_dataset/',\n",
    "    train = True, #train is set to true to download the train dataset\n",
    "    transform = transforms.ToTensor(),\n",
    "    download = True,\n",
    ") # this is used to download the mnist dataset which is available in torchvision and the transform is used to convert it to a tensor here\n",
    "\n",
    "\n",
    "train_loader = DataLoader(dataset = train_dataset, batch_size = batch_size, shuffle = True) # The DataLoader() returns an iterator which will generate batches of the selected batch_size as tuples of (data, labels)\n",
    "\n",
    "test_dataset = datasets.MNIST(\n",
    "    root = 'mnist_dataset/',\n",
    "    train = False,\n",
    "    transform = transforms.ToTensor(),\n",
    "    download = True,\n",
    ")\n",
    "\n",
    "test_loader = DataLoader(dataset = test_dataset, batch_size= batch_size, shuffle = True)\n",
    "#similar to the train dataset the same ideas are used here\n"
   ]
  },
  {
   "cell_type": "markdown",
   "metadata": {},
   "source": [
    "## Building the model"
   ]
  },
  {
   "cell_type": "markdown",
   "metadata": {},
   "source": [
    "### simple NN"
   ]
  },
  {
   "cell_type": "code",
   "execution_count": 5,
   "metadata": {},
   "outputs": [],
   "source": [
    "class NN(nn.Module):\n",
    "    def __init__(self, input_size, num_classes):\n",
    "        super(NN, self).__init__() # this calls the init function of the parent class\n",
    "        self.fc1 = nn.Linear( input_size, 50) #here we initialise a fully connected hidden layer having 50 nodes\n",
    "        self.fc2 = nn.Linear(50, num_classes)\n",
    "    \n",
    "    def forward(self, x): # forward() is used to define the forward propogation the model is going to perform \n",
    "        x = F.relu(self.fc1(x)) #relu is used as an activation function here \n",
    "        x = self.fc2(x)\n",
    "        return x\n",
    "\n",
    "        #we have one input layer one hidden layer with 50 nodes and one output layer\n",
    "        "
   ]
  },
  {
   "cell_type": "code",
   "execution_count": 6,
   "metadata": {},
   "outputs": [],
   "source": [
    "device = torch.device('cuda' if torch.cuda.is_available() else 'cpu')\n",
    "input_size = 784 #28*28 which is the size fo the input images\n",
    "num_classes = 10\n",
    "learning_rate = 0.001\n",
    "num_epochs = 3"
   ]
  },
  {
   "cell_type": "code",
   "execution_count": 7,
   "metadata": {},
   "outputs": [],
   "source": [
    "model = NN(input_size= input_size, num_classes=num_classes).to(device)\n",
    "criterion = nn.CrossEntropyLoss()\n",
    "optimizer = optim.Adam(model.parameters(), lr = learning_rate)"
   ]
  },
  {
   "cell_type": "code",
   "execution_count": 8,
   "metadata": {},
   "outputs": [
    {
     "name": "stdout",
     "output_type": "stream",
     "text": [
      "Epoch : 0\n",
      "Epoch : 1\n",
      "Epoch : 2\n"
     ]
    }
   ],
   "source": [
    "for epoch in range(num_epochs):\n",
    "    print(f'Epoch : {epoch}')\n",
    "    for batch_idx, (data, targets) in enumerate(train_loader):\n",
    "        data = data.to(device)\n",
    "        targets = targets.to(device)\n",
    "\n",
    "        #flattening it to 1 dimension i.e 28*28 to 784 ### not required for CNN\n",
    "\n",
    "        data = data.reshape(data.shape[0], -1) # data.shape[0] is the batch_size\n",
    "\n",
    "        #forward propogation\n",
    "\n",
    "        scores = model(data)\n",
    "        loss = criterion(scores,targets) #crossentropy loss applies softmax function so no need to apply to the output\n",
    "\n",
    "        #zeros the previous grads to not have conflicts\n",
    "        optimizer.zero_grad()\n",
    "\n",
    "        #back_propogation\n",
    "        loss.backward() #calculates gradient\n",
    "\n",
    "        #gradient descent or adam step\n",
    "        optimizer.step() #adjusts parameters to minimize loss\n",
    "\n",
    "        "
   ]
  },
  {
   "cell_type": "code",
   "execution_count": 9,
   "metadata": {},
   "outputs": [],
   "source": [
    "def check_accuracy(loader, model):\n",
    "    num_correct = 0\n",
    "    num_samples = 0\n",
    "    model.eval()\n",
    "\n",
    "    with torch.no_grad(): #to avoid gradient calculations as we don't need to back propogate\n",
    "        for x, y in loader:\n",
    "            x = x.to(device = device)\n",
    "            y = y.to(device = device)\n",
    "            x = x.reshape(x.shape[0], -1) #comment out for cnn\n",
    "\n",
    "            scores = model(x)\n",
    "            _, predictions = scores.max(1)\n",
    "            num_correct += (predictions == y).sum()\n",
    "            num_samples += predictions.size(0)\n",
    "\n",
    "        print(\n",
    "            f\"Got {num_correct} / {num_samples} with accuracy\"\n",
    "            f\" {float(num_correct)/float(num_samples)*100:.2f}\"\n",
    "        )\n",
    "    model.train()\n"
   ]
  },
  {
   "cell_type": "code",
   "execution_count": 10,
   "metadata": {},
   "outputs": [
    {
     "name": "stdout",
     "output_type": "stream",
     "text": [
      "Got 57666 / 60000 with accuracy 96.11\n",
      "Got 9566 / 10000 with accuracy 95.66\n"
     ]
    }
   ],
   "source": [
    "#NN\n",
    "check_accuracy(train_loader, model)\n",
    "check_accuracy(test_loader, model)"
   ]
  }
 ],
 "metadata": {
  "kernelspec": {
   "display_name": "lazypanda",
   "language": "python",
   "name": "python3"
  },
  "language_info": {
   "codemirror_mode": {
    "name": "ipython",
    "version": 3
   },
   "file_extension": ".py",
   "mimetype": "text/x-python",
   "name": "python",
   "nbconvert_exporter": "python",
   "pygments_lexer": "ipython3",
   "version": "3.9.18"
  }
 },
 "nbformat": 4,
 "nbformat_minor": 2
}
